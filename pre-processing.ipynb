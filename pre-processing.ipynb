{
 "cells": [
  {
   "cell_type": "code",
   "execution_count": 18,
   "metadata": {},
   "outputs": [
    {
     "data": {
      "text/plain": [
       "2021"
      ]
     },
     "execution_count": 18,
     "metadata": {},
     "output_type": "execute_result"
    }
   ],
   "source": [
    "import pandas as pd\n",
    "\n",
    "# read in data\n",
    "dat = pd.read_csv('mvp_data.csv', encoding='latin-1')\n",
    "\n",
    "max(dat['Year'])"
   ]
  },
  {
   "cell_type": "code",
   "execution_count": 11,
   "metadata": {},
   "outputs": [
    {
     "name": "stderr",
     "output_type": "stream",
     "text": [
      "/var/folders/f8/dl4s_26s76759s26jkhsvztw0000gn/T/ipykernel_63773/1523106133.py:2: FutureWarning: The default value of regex will change from True to False in a future version. In addition, single character regular expressions will *not* be treated as literal strings when regex=True.\n",
      "  dat['Player'] = dat['Player'].str.replace('?', 'c')\n"
     ]
    }
   ],
   "source": [
    "# fix Player column (c's were loading in as ?'s)\n",
    "dat['Player'] = dat['Player'].str.replace('?', 'c')"
   ]
  },
  {
   "cell_type": "code",
   "execution_count": 12,
   "metadata": {},
   "outputs": [],
   "source": [
    "# create West column indicating whether or not player is in western conference\n",
    "west_teams = ['LAL', 'SAS', 'UTA', 'POR', 'PHO', 'HOU', 'GSW', 'LAC', 'SEA', 'DAL', 'SAC', 'MIN', 'DEN', 'OKC', 'MEM', 'NOP']\n",
    "dat['West'] = dat['Tm'].isin(west_teams).astype(int)"
   ]
  },
  {
   "cell_type": "code",
   "execution_count": 13,
   "metadata": {},
   "outputs": [],
   "source": [
    "# remove unnecessary columns\n",
    "dat.drop(['Unnamed: 0', 'First', 'Pts.Won', 'Pts.Max', 'Tm', 'Rank', 'Player'], inplace=True, axis=1)"
   ]
  },
  {
   "cell_type": "code",
   "execution_count": 16,
   "metadata": {},
   "outputs": [
    {
     "name": "stdout",
     "output_type": "stream",
     "text": [
      "379\n",
      "95\n"
     ]
    }
   ],
   "source": [
    "# split into x,y and train,test\n",
    "X = dat.iloc[:, [0]+list(range(2,16))].values\n",
    "y = dat.iloc[:, 1].values\n",
    "\n",
    "from sklearn.model_selection import train_test_split\n",
    "test_size = 0.2 \n",
    "random_seed = 0\n",
    "x_train, x_test, y_train, y_test = train_test_split(X, y, random_state=random_seed, test_size=test_size)\n",
    "\n",
    "pd.DataFrame(x_train).to_csv('x_train.csv')\n",
    "pd.DataFrame(x_test).to_csv('x_test.csv')\n",
    "pd.DataFrame(y_train).to_csv('y_train.csv')\n",
    "pd.DataFrame(y_test).to_csv('y_test.csv')\n",
    "print(len(x_train))\n",
    "print(len(x_test))\n"
   ]
  },
  {
   "cell_type": "code",
   "execution_count": 15,
   "metadata": {},
   "outputs": [],
   "source": [
    "# scaling the train and test data\n",
    "from sklearn.preprocessing import StandardScaler\n",
    "scaler = StandardScaler()\n",
    "\n",
    "x_train_norm = scaler.fit_transform(x_train)\n",
    "x_test_norm = scaler.transform(x_test)\n",
    "\n",
    "# pca\n",
    "from sklearn.decomposition import PCA\n",
    "pca = PCA(n_components=0.90)\n",
    "\n",
    "pca_train = pca.fit_transform(x_train_norm)\n",
    "pca_test = pca.transform(x_test_norm)\n",
    "\n",
    "pd.DataFrame(pca_train).to_csv('x_train_pca.csv')\n",
    "pd.DataFrame(pca_test).to_csv('x_test_pca.csv')\n",
    "\n",
    "\n",
    "\n"
   ]
  },
  {
   "cell_type": "markdown",
   "metadata": {},
   "source": [
    "Update: I made a slight change to my Task. Instead of predicting the raw number of MVP votes that a player gets, I will now predict the share of the total votes submitted that a player receives. I made this change because I realized that some years had different amounts of voters.\n",
    "\n",
    "I want to build three different models that I will feed this data into:\n",
    "1. A simple linear regression model using gradient descent\n",
    "2. A decision tree regressor model\n",
    "3. A KNN regressor model\n",
    "\n",
    "I plan on using MSE as my performance metric."
   ]
  }
 ],
 "metadata": {
  "kernelspec": {
   "display_name": "Python 3",
   "language": "python",
   "name": "python3"
  },
  "language_info": {
   "codemirror_mode": {
    "name": "ipython",
    "version": 3
   },
   "file_extension": ".py",
   "mimetype": "text/x-python",
   "name": "python",
   "nbconvert_exporter": "python",
   "pygments_lexer": "ipython3",
   "version": "3.11.4"
  }
 },
 "nbformat": 4,
 "nbformat_minor": 2
}
