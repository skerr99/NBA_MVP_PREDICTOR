{
 "cells": [
  {
   "cell_type": "markdown",
   "metadata": {},
   "source": [
    "# MVP Prediction Models\n",
    "### Loading data"
   ]
  },
  {
   "cell_type": "code",
   "execution_count": 148,
   "metadata": {},
   "outputs": [],
   "source": [
    "# importing packages and loading data from pre-processing notebook\n",
    "import pandas as pd\n",
    "import numpy as np\n",
    "\n",
    "\n",
    "y_train = pd.read_csv('y_train.csv').iloc[:,1:]\n",
    "y_test = pd.read_csv('y_test.csv').iloc[:,1:]\n",
    "\n",
    "x_train = pd.read_csv('x_train.csv').iloc[:,1:]\n",
    "x_test = pd.read_csv('x_test.csv').iloc[:,1:]\n",
    "\n",
    "x_train_pca = pd.read_csv('x_train_pca.csv').iloc[:,1:]\n",
    "x_test_pca = pd.read_csv('x_test_pca.csv').iloc[:,1:]"
   ]
  },
  {
   "cell_type": "markdown",
   "metadata": {},
   "source": [
    "### Linear Regressor Models"
   ]
  },
  {
   "cell_type": "code",
   "execution_count": 149,
   "metadata": {},
   "outputs": [
    {
     "name": "stderr",
     "output_type": "stream",
     "text": [
      "/Users/seankerr/anaconda3/envs/pythonProject/lib/python3.11/site-packages/sklearn/linear_model/_coordinate_descent.py:678: ConvergenceWarning: Objective did not converge. You might want to increase the number of iterations, check the scale of the features or consider increasing regularisation. Duality gap: 2.531e+00, tolerance: 2.785e-03\n",
      "  model = cd_fast.enet_coordinate_descent(\n"
     ]
    },
    {
     "name": "stdout",
     "output_type": "stream",
     "text": [
      "\n",
      "Basic model MSE: 0.032332017841986645\n",
      "Basic model (PCA) MSE: 0.03861486577593903\n",
      "\n",
      "Lasso Regularization model MSE: 0.027797635117050967\n",
      "Lasso Regularization (PCA) model MSE: 0.04583684553920191\n",
      "\n",
      "Ridge Regularization model MSE: 0.029200889524928823\n",
      "Ridge Regularization (PCA) model MSE: 0.034898969315755576\n"
     ]
    }
   ],
   "source": [
    "from sklearn.linear_model import LinearRegression\n",
    "from sklearn.metrics import mean_squared_error\n",
    "from sklearn.metrics import r2_score\n",
    "from sklearn.preprocessing import PolynomialFeatures\n",
    "from sklearn.linear_model import Lasso\n",
    "from sklearn.linear_model import Ridge\n",
    "\n",
    "\n",
    "# adding quadratic terms for models that will go through regularization\n",
    "poly_term_adder = PolynomialFeatures(degree=2) \n",
    "x_train_poly = poly_term_adder.fit_transform(x_train)\n",
    "x_test_poly = poly_term_adder.transform(x_test)\n",
    "\n",
    "poly_term_adder_pca = PolynomialFeatures(degree=2)\n",
    "x_train_pca_poly = poly_term_adder_pca.fit_transform(x_train_pca)\n",
    "x_test_pca_poly = poly_term_adder_pca.transform(x_test_pca)\n",
    "\n",
    "\n",
    "# Basic models\n",
    "basic = LinearRegression()\n",
    "basic.fit(x_train, y_train)\n",
    "\n",
    "basic_pca = LinearRegression()\n",
    "basic_pca.fit(x_train_pca, y_train)\n",
    "\n",
    "\n",
    "# Lasso models\n",
    "lasso = Lasso(alpha=0.1)\n",
    "lasso.fit(x_train_poly, y_train)\n",
    "\n",
    "lasso_pca = Lasso(alpha=0.1)\n",
    "lasso_pca.fit(x_train_pca_poly, y_train)\n",
    "\n",
    "\n",
    "# Ridge models\n",
    "ridge = Ridge(alpha=0.1)\n",
    "ridge.fit(x_train_poly, y_train)\n",
    "\n",
    "ridge_pca = Ridge(alpha=0.1)\n",
    "ridge_pca.fit(x_train_pca_poly, y_train)\n",
    "\n",
    "\n",
    "# getting predictions\n",
    "basic_pred = basic.predict(x_test)\n",
    "basic_pca_pred = basic_pca.predict(x_test_pca)\n",
    "\n",
    "lasso_pred = lasso.predict(x_test_poly)\n",
    "lasso_pca_pred = lasso_pca.predict(x_test_pca_poly)\n",
    "\n",
    "ridge_pred = ridge.predict(x_test_poly)\n",
    "ridge_pca_pred = ridge_pca.predict(x_test_pca_poly)\n",
    "\n",
    "\n",
    "# converting negative results to 0 and >1 results to 1\n",
    "basic_pred[basic_pred < 0] = 0\n",
    "basic_pca_pred[basic_pca_pred < 0] = 0\n",
    "\n",
    "lasso_pred[lasso_pred < 0] = 0\n",
    "lasso_pca_pred[lasso_pca_pred < 0] = 0\n",
    "\n",
    "ridge_pred[ridge_pred < 0] = 0 \n",
    "ridge_pca_pred[ridge_pca_pred < 0 ] = 0\n",
    "\n",
    "\n",
    "\n",
    "basic_pred[basic_pred > 1] = 1\n",
    "basic_pca_pred[basic_pca_pred > 1] = 1\n",
    "\n",
    "lasso_pred[lasso_pred > 1] = 1\n",
    "lasso_pca_pred[lasso_pca_pred > 1] = 1\n",
    "\n",
    "ridge_pred[ridge_pred > 1] = 1\n",
    "ridge_pca_pred[ridge_pca_pred > 1] = 1\n",
    "\n",
    "\n",
    "# computing and displaying metrics\n",
    "basic_mse = mean_squared_error(y_test, basic_pred)\n",
    "basic_pca_mse = mean_squared_error(y_test, basic_pca_pred)\n",
    "\n",
    "lasso_mse = mean_squared_error(y_test, lasso_pred)\n",
    "lasso_pca_mse = mean_squared_error(y_test, lasso_pca_pred)\n",
    "\n",
    "ridge_mse = mean_squared_error(y_test, ridge_pred)\n",
    "ridge_pca_mse = mean_squared_error(y_test, ridge_pca_pred)\n",
    "\n",
    "print()\n",
    "print('Basic model MSE:', basic_mse)\n",
    "print('Basic model (PCA) MSE:', basic_pca_mse)\n",
    "print()\n",
    "print('Lasso Regularization model MSE:', lasso_mse)\n",
    "print('Lasso Regularization (PCA) model MSE:', lasso_pca_mse)\n",
    "print()\n",
    "print('Ridge Regularization model MSE:', ridge_mse)\n",
    "print('Ridge Regularization (PCA) model MSE:', ridge_pca_mse)\n",
    "\n"
   ]
  },
  {
   "cell_type": "markdown",
   "metadata": {},
   "source": [
    "### Decision Tree Regressor"
   ]
  },
  {
   "cell_type": "code",
   "execution_count": 152,
   "metadata": {},
   "outputs": [
    {
     "name": "stdout",
     "output_type": "stream",
     "text": [
      "Decision Tree Regressor MSE: 0.05906257894736843\n",
      "Decision Tree Regressor (PCA) MSE: 0.09438997894736845\n"
     ]
    }
   ],
   "source": [
    "from sklearn.tree import DecisionTreeRegressor, plot_tree\n",
    "import matplotlib.pyplot as plt\n",
    "\n",
    "# creating, fitting, and getting predictions from model\n",
    "dtr = DecisionTreeRegressor()\n",
    "dtr.fit(x_train, y_train)\n",
    "dtr_pred = dtr.predict(x_test)\n",
    "\n",
    "dtr_pca = DecisionTreeRegressor()\n",
    "dtr_pca.fit(x_train_pca, y_train)\n",
    "dtr_pca_pred = dtr_pca.predict(x_test_pca)\n",
    "\n",
    "# converting negative results to 0 and >1 results to 1\n",
    "dtr_pred[dtr_pred < 0 ] = 0\n",
    "dtr_pca_pred[dtr_pca_pred < 0] = 0\n",
    "\n",
    "dtr_pred[dtr_pred > 1] = 1\n",
    "dtr_pca_pred[dtr_pca_pred > 1] = 1\n",
    "\n",
    "\n",
    "# show tree structure\n",
    "'''\n",
    "plt.figure(figsize=(10, 8))\n",
    "plot_tree(dtr, filled=True)\n",
    "plot_tree(dtr_pca, filled=True)\n",
    "plt.show()\n",
    "'''\n",
    "\n",
    "# metric\n",
    "dtr_mse = mean_squared_error(y_test, dtr_pred)\n",
    "dtr_pca_mse = mean_squared_error(y_test, dtr_pca_pred)\n",
    "print('Decision Tree Regressor MSE:', dtr_mse)\n",
    "print('Decision Tree Regressor (PCA) MSE:', dtr_pca_mse)\n"
   ]
  },
  {
   "cell_type": "markdown",
   "metadata": {},
   "source": [
    "### KNN Regressor"
   ]
  },
  {
   "cell_type": "code",
   "execution_count": 151,
   "metadata": {},
   "outputs": [
    {
     "name": "stdout",
     "output_type": "stream",
     "text": [
      "KNN Regressor MSE: 0.0387794999989323\n",
      "KNN Regressor (PCA) MSE: 0.046628352421052635\n"
     ]
    }
   ],
   "source": [
    "from sklearn.neighbors import KNeighborsRegressor\n",
    "\n",
    "# creating, fitting, and getting predictions from model\n",
    "knr = KNeighborsRegressor(n_neighbors=5, weights='distance')\n",
    "knr.fit(x_train, y_train)\n",
    "knr_pred = knr.predict(x_test)\n",
    "\n",
    "knr_pca = KNeighborsRegressor()\n",
    "knr_pca.fit(x_train_pca, y_train)\n",
    "knr_pca_pred = knr_pca.predict(x_test_pca)\n",
    "\n",
    "# converting negative results to 0 (negative share of votes not possible)\n",
    "knr_pred[knr_pred < 0] = 0\n",
    "knr_pca_pred[knr_pca_pred < 0] = 0\n",
    "\n",
    "knr_pred[knr_pred > 1] = 1\n",
    "knr_pca_pred[knr_pca_pred > 1] = 1\n",
    "\n",
    "# metric\n",
    "knr_mse = mean_squared_error(y_test, knr_pred)\n",
    "knr_pca_mse = mean_squared_error(y_test, knr_pca_pred)\n",
    "print('KNN Regressor MSE:', knr_mse)\n",
    "print('KNN Regressor (PCA) MSE:', knr_pca_mse)\n"
   ]
  }
 ],
 "metadata": {
  "kernelspec": {
   "display_name": "Python 3",
   "language": "python",
   "name": "python3"
  },
  "language_info": {
   "codemirror_mode": {
    "name": "ipython",
    "version": 3
   },
   "file_extension": ".py",
   "mimetype": "text/x-python",
   "name": "python",
   "nbconvert_exporter": "python",
   "pygments_lexer": "ipython3",
   "version": "3.11.4"
  }
 },
 "nbformat": 4,
 "nbformat_minor": 2
}
